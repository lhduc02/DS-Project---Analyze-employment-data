{
 "cells": [
  {
   "cell_type": "code",
   "execution_count": 1,
   "id": "962f669d",
   "metadata": {},
   "outputs": [],
   "source": [
    "import numpy as np\n",
    "from selenium import webdriver\n",
    "from time import sleep\n",
    "import random\n",
    "from selenium.common.exceptions import NoSuchElementException, ElementNotInteractableException\n",
    "from selenium.webdriver.common.by import By\n",
    "import pandas as pd"
   ]
  },
  {
   "cell_type": "code",
   "execution_count": 2,
   "id": "858b065f",
   "metadata": {},
   "outputs": [],
   "source": [
    "# Tài khoản itviec\n",
    "email = \"rfd1894@gmail.com\"\n",
    "password = \"ABCDxyzt1234@@\""
   ]
  },
  {
   "cell_type": "markdown",
   "id": "7647f26f",
   "metadata": {},
   "source": [
    "# Lấy dữ liệu job"
   ]
  },
  {
   "cell_type": "code",
   "execution_count": 5,
   "id": "4ad009f5",
   "metadata": {
    "scrolled": true
   },
   "outputs": [
    {
     "ename": "AttributeError",
     "evalue": "'str' object has no attribute 'capabilities'",
     "output_type": "error",
     "traceback": [
      "\u001b[1;31m---------------------------------------------------------------------------\u001b[0m",
      "\u001b[1;31mAttributeError\u001b[0m                            Traceback (most recent call last)",
      "File \u001b[1;32m~\\AppData\\Local\\Programs\\Python\\Python310\\lib\\site-packages\\selenium\\webdriver\\common\\driver_finder.py:38\u001b[0m, in \u001b[0;36mDriverFinder.get_path\u001b[1;34m(service, options)\u001b[0m\n\u001b[0;32m     37\u001b[0m \u001b[38;5;28;01mtry\u001b[39;00m:\n\u001b[1;32m---> 38\u001b[0m     path \u001b[38;5;241m=\u001b[39m \u001b[43mSeleniumManager\u001b[49m\u001b[43m(\u001b[49m\u001b[43m)\u001b[49m\u001b[38;5;241;43m.\u001b[39;49m\u001b[43mdriver_location\u001b[49m\u001b[43m(\u001b[49m\u001b[43moptions\u001b[49m\u001b[43m)\u001b[49m \u001b[38;5;28;01mif\u001b[39;00m path \u001b[38;5;129;01mis\u001b[39;00m \u001b[38;5;28;01mNone\u001b[39;00m \u001b[38;5;28;01melse\u001b[39;00m path\n\u001b[0;32m     39\u001b[0m \u001b[38;5;28;01mexcept\u001b[39;00m \u001b[38;5;167;01mException\u001b[39;00m \u001b[38;5;28;01mas\u001b[39;00m err:\n",
      "File \u001b[1;32m~\\AppData\\Local\\Programs\\Python\\Python310\\lib\\site-packages\\selenium\\webdriver\\common\\selenium_manager.py:87\u001b[0m, in \u001b[0;36mSeleniumManager.driver_location\u001b[1;34m(self, options)\u001b[0m\n\u001b[0;32m     80\u001b[0m \u001b[38;5;250m\u001b[39m\u001b[38;5;124;03m\"\"\"Determines the path of the correct driver.\u001b[39;00m\n\u001b[0;32m     81\u001b[0m \n\u001b[0;32m     82\u001b[0m \u001b[38;5;124;03m:Args:\u001b[39;00m\n\u001b[0;32m     83\u001b[0m \u001b[38;5;124;03m - browser: which browser to get the driver path for.\u001b[39;00m\n\u001b[0;32m     84\u001b[0m \u001b[38;5;124;03m:Returns: The driver path to use\u001b[39;00m\n\u001b[0;32m     85\u001b[0m \u001b[38;5;124;03m\"\"\"\u001b[39;00m\n\u001b[1;32m---> 87\u001b[0m browser \u001b[38;5;241m=\u001b[39m \u001b[43moptions\u001b[49m\u001b[38;5;241;43m.\u001b[39;49m\u001b[43mcapabilities\u001b[49m[\u001b[38;5;124m\"\u001b[39m\u001b[38;5;124mbrowserName\u001b[39m\u001b[38;5;124m\"\u001b[39m]\n\u001b[0;32m     89\u001b[0m args \u001b[38;5;241m=\u001b[39m [\u001b[38;5;28mstr\u001b[39m(\u001b[38;5;28mself\u001b[39m\u001b[38;5;241m.\u001b[39mget_binary()), \u001b[38;5;124m\"\u001b[39m\u001b[38;5;124m--browser\u001b[39m\u001b[38;5;124m\"\u001b[39m, browser]\n",
      "\u001b[1;31mAttributeError\u001b[0m: 'str' object has no attribute 'capabilities'",
      "\nDuring handling of the above exception, another exception occurred:\n",
      "\u001b[1;31mAttributeError\u001b[0m                            Traceback (most recent call last)",
      "Cell \u001b[1;32mIn[5], line 1\u001b[0m\n\u001b[1;32m----> 1\u001b[0m driver \u001b[38;5;241m=\u001b[39m \u001b[43mwebdriver\u001b[49m\u001b[38;5;241;43m.\u001b[39;49m\u001b[43mChrome\u001b[49m\u001b[43m(\u001b[49m\u001b[38;5;124;43m\"\u001b[39;49m\u001b[38;5;124;43mD:\u001b[39;49m\u001b[38;5;130;43;01m\\\\\u001b[39;49;00m\u001b[38;5;124;43m.Repo\u001b[39;49m\u001b[38;5;130;43;01m\\\\\u001b[39;49;00m\u001b[38;5;124;43mPython\u001b[39;49m\u001b[38;5;130;43;01m\\\\\u001b[39;49;00m\u001b[38;5;124;43mchromedriver-win64\u001b[39;49m\u001b[38;5;130;43;01m\\\\\u001b[39;49;00m\u001b[38;5;124;43mchromedriver.exe\u001b[39;49m\u001b[38;5;124;43m\"\u001b[39;49m\u001b[43m)\u001b[49m\n\u001b[0;32m      2\u001b[0m job_titles, job_links \u001b[38;5;241m=\u001b[39m [], [] \u001b[38;5;66;03m# 1\u001b[39;00m\n\u001b[0;32m      3\u001b[0m company_names, company_links \u001b[38;5;241m=\u001b[39m [], [] \u001b[38;5;66;03m# 2\u001b[39;00m\n",
      "File \u001b[1;32m~\\AppData\\Local\\Programs\\Python\\Python310\\lib\\site-packages\\selenium\\webdriver\\chrome\\webdriver.py:45\u001b[0m, in \u001b[0;36mWebDriver.__init__\u001b[1;34m(self, options, service, keep_alive)\u001b[0m\n\u001b[0;32m     42\u001b[0m service \u001b[38;5;241m=\u001b[39m service \u001b[38;5;28;01mif\u001b[39;00m service \u001b[38;5;28;01melse\u001b[39;00m Service()\n\u001b[0;32m     43\u001b[0m options \u001b[38;5;241m=\u001b[39m options \u001b[38;5;28;01mif\u001b[39;00m options \u001b[38;5;28;01melse\u001b[39;00m Options()\n\u001b[1;32m---> 45\u001b[0m \u001b[38;5;28;43msuper\u001b[39;49m\u001b[43m(\u001b[49m\u001b[43m)\u001b[49m\u001b[38;5;241;43m.\u001b[39;49m\u001b[38;5;21;43m__init__\u001b[39;49m\u001b[43m(\u001b[49m\n\u001b[0;32m     46\u001b[0m \u001b[43m    \u001b[49m\u001b[43mbrowser_name\u001b[49m\u001b[38;5;241;43m=\u001b[39;49m\u001b[43mDesiredCapabilities\u001b[49m\u001b[38;5;241;43m.\u001b[39;49m\u001b[43mCHROME\u001b[49m\u001b[43m[\u001b[49m\u001b[38;5;124;43m\"\u001b[39;49m\u001b[38;5;124;43mbrowserName\u001b[39;49m\u001b[38;5;124;43m\"\u001b[39;49m\u001b[43m]\u001b[49m\u001b[43m,\u001b[49m\n\u001b[0;32m     47\u001b[0m \u001b[43m    \u001b[49m\u001b[43mvendor_prefix\u001b[49m\u001b[38;5;241;43m=\u001b[39;49m\u001b[38;5;124;43m\"\u001b[39;49m\u001b[38;5;124;43mgoog\u001b[39;49m\u001b[38;5;124;43m\"\u001b[39;49m\u001b[43m,\u001b[49m\n\u001b[0;32m     48\u001b[0m \u001b[43m    \u001b[49m\u001b[43moptions\u001b[49m\u001b[38;5;241;43m=\u001b[39;49m\u001b[43moptions\u001b[49m\u001b[43m,\u001b[49m\n\u001b[0;32m     49\u001b[0m \u001b[43m    \u001b[49m\u001b[43mservice\u001b[49m\u001b[38;5;241;43m=\u001b[39;49m\u001b[43mservice\u001b[49m\u001b[43m,\u001b[49m\n\u001b[0;32m     50\u001b[0m \u001b[43m    \u001b[49m\u001b[43mkeep_alive\u001b[49m\u001b[38;5;241;43m=\u001b[39;49m\u001b[43mkeep_alive\u001b[49m\u001b[43m,\u001b[49m\n\u001b[0;32m     51\u001b[0m \u001b[43m\u001b[49m\u001b[43m)\u001b[49m\n",
      "File \u001b[1;32m~\\AppData\\Local\\Programs\\Python\\Python310\\lib\\site-packages\\selenium\\webdriver\\chromium\\webdriver.py:49\u001b[0m, in \u001b[0;36mChromiumDriver.__init__\u001b[1;34m(self, browser_name, vendor_prefix, options, service, keep_alive)\u001b[0m\n\u001b[0;32m     37\u001b[0m \u001b[38;5;250m\u001b[39m\u001b[38;5;124;03m\"\"\"Creates a new WebDriver instance of the ChromiumDriver. Starts the\u001b[39;00m\n\u001b[0;32m     38\u001b[0m \u001b[38;5;124;03mservice and then creates new WebDriver instance of ChromiumDriver.\u001b[39;00m\n\u001b[0;32m     39\u001b[0m \n\u001b[1;32m   (...)\u001b[0m\n\u001b[0;32m     45\u001b[0m \u001b[38;5;124;03m - keep_alive - Whether to configure ChromiumRemoteConnection to use HTTP keep-alive.\u001b[39;00m\n\u001b[0;32m     46\u001b[0m \u001b[38;5;124;03m\"\"\"\u001b[39;00m\n\u001b[0;32m     47\u001b[0m \u001b[38;5;28mself\u001b[39m\u001b[38;5;241m.\u001b[39mservice \u001b[38;5;241m=\u001b[39m service\n\u001b[1;32m---> 49\u001b[0m \u001b[38;5;28mself\u001b[39m\u001b[38;5;241m.\u001b[39mservice\u001b[38;5;241m.\u001b[39mpath \u001b[38;5;241m=\u001b[39m \u001b[43mDriverFinder\u001b[49m\u001b[38;5;241;43m.\u001b[39;49m\u001b[43mget_path\u001b[49m\u001b[43m(\u001b[49m\u001b[38;5;28;43mself\u001b[39;49m\u001b[38;5;241;43m.\u001b[39;49m\u001b[43mservice\u001b[49m\u001b[43m,\u001b[49m\u001b[43m \u001b[49m\u001b[43moptions\u001b[49m\u001b[43m)\u001b[49m\n\u001b[0;32m     50\u001b[0m \u001b[38;5;28mself\u001b[39m\u001b[38;5;241m.\u001b[39mservice\u001b[38;5;241m.\u001b[39mstart()\n\u001b[0;32m     52\u001b[0m executor \u001b[38;5;241m=\u001b[39m ChromiumRemoteConnection(\n\u001b[0;32m     53\u001b[0m     remote_server_addr\u001b[38;5;241m=\u001b[39m\u001b[38;5;28mself\u001b[39m\u001b[38;5;241m.\u001b[39mservice\u001b[38;5;241m.\u001b[39mservice_url,\n\u001b[0;32m     54\u001b[0m     browser_name\u001b[38;5;241m=\u001b[39mbrowser_name,\n\u001b[1;32m   (...)\u001b[0m\n\u001b[0;32m     57\u001b[0m     ignore_proxy\u001b[38;5;241m=\u001b[39moptions\u001b[38;5;241m.\u001b[39m_ignore_local_proxy,\n\u001b[0;32m     58\u001b[0m )\n",
      "File \u001b[1;32m~\\AppData\\Local\\Programs\\Python\\Python310\\lib\\site-packages\\selenium\\webdriver\\common\\driver_finder.py:40\u001b[0m, in \u001b[0;36mDriverFinder.get_path\u001b[1;34m(service, options)\u001b[0m\n\u001b[0;32m     38\u001b[0m     path \u001b[38;5;241m=\u001b[39m SeleniumManager()\u001b[38;5;241m.\u001b[39mdriver_location(options) \u001b[38;5;28;01mif\u001b[39;00m path \u001b[38;5;129;01mis\u001b[39;00m \u001b[38;5;28;01mNone\u001b[39;00m \u001b[38;5;28;01melse\u001b[39;00m path\n\u001b[0;32m     39\u001b[0m \u001b[38;5;28;01mexcept\u001b[39;00m \u001b[38;5;167;01mException\u001b[39;00m \u001b[38;5;28;01mas\u001b[39;00m err:\n\u001b[1;32m---> 40\u001b[0m     msg \u001b[38;5;241m=\u001b[39m \u001b[38;5;124mf\u001b[39m\u001b[38;5;124m\"\u001b[39m\u001b[38;5;124mUnable to obtain driver for \u001b[39m\u001b[38;5;132;01m{\u001b[39;00moptions\u001b[38;5;241m.\u001b[39mcapabilities[\u001b[38;5;124m'\u001b[39m\u001b[38;5;124mbrowserName\u001b[39m\u001b[38;5;124m'\u001b[39m]\u001b[38;5;132;01m}\u001b[39;00m\u001b[38;5;124m using Selenium Manager.\u001b[39m\u001b[38;5;124m\"\u001b[39m\n\u001b[0;32m     41\u001b[0m     \u001b[38;5;28;01mraise\u001b[39;00m NoSuchDriverException(msg) \u001b[38;5;28;01mfrom\u001b[39;00m \u001b[38;5;21;01merr\u001b[39;00m\n\u001b[0;32m     43\u001b[0m \u001b[38;5;28;01mif\u001b[39;00m path \u001b[38;5;129;01mis\u001b[39;00m \u001b[38;5;28;01mNone\u001b[39;00m \u001b[38;5;129;01mor\u001b[39;00m \u001b[38;5;129;01mnot\u001b[39;00m Path(path)\u001b[38;5;241m.\u001b[39mis_file():\n",
      "\u001b[1;31mAttributeError\u001b[0m: 'str' object has no attribute 'capabilities'"
     ]
    }
   ],
   "source": [
    "driver = webdriver.Chrome(\"D:\\\\.Repo\\\\Python\\\\chromedriver-win64\\\\chromedriver.exe\")\n",
    "job_titles, job_links = [], [] # 1\n",
    "company_names, company_links = [], [] # 2\n",
    "hinhthuc_thanhpho, hinhthuc, thanhpho = [], [], [] # 3\n",
    "skills = [] # 4\n",
    "luong = [] # 5\n",
    "luong_min, luong_max = [], [] # 5\n",
    "ngay_tuyen = [] # 6\n",
    "mo_ta_cong_viec = [] # 7\n",
    "\n",
    "for i in range(2, 3):\n",
    "    link_web = \"https://itviec.com/viec-lam-it?job_selected=none&page=\" + str(i)\n",
    "    # Mở URL\n",
    "    driver.get(link_web)\n",
    "    sleep(random.randint(5,10))\n",
    "\n",
    "    # Thu thập dữ liệu tên và link dẫn đến job 1\n",
    "#     elms1 = driver.find_elements_by_css_selector('h3.imt-3 a.text-it-black')\n",
    "#     for elm in elms1:\n",
    "#         text = elm.text\n",
    "#         link = elm.get_attribute('href')\n",
    "#         job_titles.append(text)\n",
    "#         job_links.append(link)\n",
    "\n",
    "    # Thu thập dữ liệu tên và link dẫn đến công ty 2 (để phục vụ cho lấy dữ liệu công ty)\n",
    "    elms2 = driver.find_elements_by_css_selector('.ims-2 a')\n",
    "    for elm in elms2:\n",
    "        text = elm.text\n",
    "        link = elm.get_attribute('href')\n",
    "        company_links.append(link)\n",
    "        company_names.append(text)\n",
    "    if len(company_links) > len(job_titles):\n",
    "        company_links = company_links[:-1]\n",
    "        company_names = company_names[:-1]\n",
    "\n",
    "\n",
    "    # Thu thập dữ liệu Hình thức làm việc 3\n",
    "\n",
    "# elms3 = driver.find_elements_by_css_selector(\n",
    "#                                  '.d-flex.align-items-center.text-dark-grey.imt-1')\n",
    "#     for elm in elms3:\n",
    "#         text = elm.text\n",
    "#         hinhthuc_thanhpho.append(text)\n",
    "    \n",
    "#     # Thu thập dữ liệu Các Kỹ năng quan trọng 4\n",
    "#     elms4 = driver.find_elements(By.CSS_SELECTOR, \".imt-3.imb-2\")\n",
    "#     skills_ = [elm.text for elm in elms4]\n",
    "#     for s in skills_:\n",
    "#         skills.append(s.replace('\\n', ', '))\n",
    "\n",
    "#     # Thu thập dữ liệu lương min và lương max 5\n",
    "#     elms5 = driver.find_elements_by_css_selector('.isp-2')\n",
    "#     for elm in elms5:\n",
    "#         sal = elm.text\n",
    "#         luong.append(sal)\n",
    "\n",
    "#     # Ngày tuyển job 6\n",
    "#     span_elements = driver.find_elements_by_css_selector('.d-flex.align-items-center.justify-content-between.position-relative span.small-text')\n",
    "#     for span_element in span_elements:\n",
    "#         nt = span_element.get_attribute('textContent').strip()\n",
    "#         ngay_tuyen.append(nt.replace(\"\\n\", \" \"))\n",
    "    \n",
    "#     # Mô tả công việc 7\n",
    "#     \"\"\"\n",
    "\n",
    "\n",
    "\n",
    "#     \"\"\"\n",
    "\n",
    "# # Xử lý hình thức, thành phố 3\n",
    "# for i in range(0, len(hinhthuc_thanhpho), 2):\n",
    "#     hinhthuc.append(hinhthuc_thanhpho[i])\n",
    "# for i in range(1, len(hinhthuc_thanhpho), 2):\n",
    "#     thanhpho.append(hinhthuc_thanhpho[i])\n"
   ]
  },
  {
   "cell_type": "code",
   "execution_count": null,
   "id": "a3700e52",
   "metadata": {},
   "outputs": [],
   "source": [
    "print(len(job_titles))\n",
    "print(len(job_links))\n",
    "print(len(company_names))\n",
    "print(len(company_links))\n",
    "print(len(hinhthuc))\n",
    "print(len(thanhpho))\n",
    "print(len(skills))\n",
    "print(len(luong))\n",
    "print(len(luong_min))\n",
    "print(len(luong_max))\n",
    "print(len(ngay_tuyen))\n",
    "print(len(mo_ta_cong_viec))\n"
   ]
  },
  {
   "cell_type": "markdown",
   "id": "4578fdbd",
   "metadata": {},
   "source": [
    "# Tạo dataframe job"
   ]
  },
  {
   "cell_type": "code",
   "execution_count": null,
   "id": "52ec5d28",
   "metadata": {
    "scrolled": true
   },
   "outputs": [],
   "source": [
    "dict_job_columns = {\n",
    "    'job_titles' : job_titles,\n",
    "    'job_links' : job_links,\n",
    "    'company_names' : company_names,\n",
    "    'company_links' : company_links,\n",
    "    'hinhthuc' : hinhthuc,\n",
    "    'thanhpho' : thanhpho,\n",
    "    'skills' : skills,\n",
    "    #'luong' : luong,\n",
    "    #'luong_min' : luong_min,\n",
    "    #'luong_max' : luong_max,\n",
    "    'ngay_tuyen' : ngay_tuyen,\n",
    "    #'mo_ta_cong_viec' : mo_ta_cong_viec\n",
    "}\n",
    "\n",
    "df_job = pd.DataFrame(dict_job_columns)\n",
    "df_job.head()\n"
   ]
  },
  {
   "cell_type": "code",
   "execution_count": null,
   "id": "7240f912",
   "metadata": {},
   "outputs": [],
   "source": [
    "df_job.to_excel(\"df_job.xlsx\", index = False)"
   ]
  },
  {
   "cell_type": "code",
   "execution_count": null,
   "id": "bf9947e2",
   "metadata": {},
   "outputs": [],
   "source": [
    "company_links = [\n",
    "    \"https://itviec.com/nha-tuyen-dung/zalo?lab_feature=preview_jd_page\",\n",
    "    \"https://itviec.com/nha-tuyen-dung/sgits?lab_feature=preview_jd_page\",\n",
    "    \"https://itviec.com/nha-tuyen-dung/the-access-group?lab_feature=preview_jd_page\",\n",
    "    \"https://itviec.com/nha-tuyen-dung/atomi-digital?lab_feature=preview_jd_page\",\n",
    "    \"https://itviec.com/nha-tuyen-dung/jeisys-medical-viet-nam?lab_feature=preview_jd_page\"\n",
    "]"
   ]
  },
  {
   "cell_type": "markdown",
   "id": "1ed5f40f",
   "metadata": {},
   "source": [
    "\n",
    "# Lấy dữ liệu company"
   ]
  },
  {
   "cell_type": "code",
   "execution_count": null,
   "id": "6cd32ffd",
   "metadata": {},
   "outputs": [],
   "source": [
    "company_links = list(set(company_links))\n",
    "\n",
    "ten_cong_ty = [] # 1\n",
    "datas = [] # 2\n",
    "so_nhan_vien = [] # 2\n",
    "mo_hinh_kinh_doanh = [] # 2\n",
    "quoc_gia_chu_quan = [] # 2\n",
    "thoi_gian_lam_viec = [] # 2\n",
    "lam_viec_ngoai_gio = [] # 2\n",
    "danh_gia = [] # 3\n",
    "so_luot_danh_gia = [] # 4\n",
    "khuyen_khich_lam_viec_tai_day = [] # 5\n",
    "gioi_thieu_cong_ty = [] # 6\n",
    "\n",
    "cnt = 0\n",
    "for company_link in company_links:\n",
    "    cnt += 1\n",
    "    driver = webdriver.Chrome(\"D:\\\\.Repo\\\\Python\\\\chromedriver-win64\\\\chromedriver.exe\")\n",
    "\n",
    "    # Mở URL\n",
    "    driver.get(company_link)\n",
    "    sleep(random.randint(5,10))\n",
    "\n",
    "    # Lấy tên công ty 1\n",
    "    elms1 = driver.find_elements(By.CSS_SELECTOR, \".text-center.text-md-start.ipt-4.ipb-2.ipt-md-0\")\n",
    "    ten_cong_ty.append([elm.text for elm in elms1][0])\n",
    "    \n",
    "    # Lấy nhiều loại dữ liệu 2\n",
    "    elms2 = driver.find_elements(By.CSS_SELECTOR, \".normal-text\")\n",
    "    data = [elm.text for elm in elms2]\n",
    "    elms2 = driver.find_elements(By.CSS_SELECTOR, \".d-inline-block\")\n",
    "    data += [elm.text for elm in elms2]\n",
    "    datas.append(data)\n",
    "    so_nhan_vien.append(data[1])\n",
    "    mo_hinh_kinh_doanh.append(data[0])\n",
    "    quoc_gia_chu_quan.append(data[-1])\n",
    "    thoi_gian_lam_viec.append(data[2])\n",
    "    lam_viec_ngoai_gio.append(data[3])\n",
    "    \n",
    "    # Lấy đánh giá 3\n",
    "    elms3 = driver.find_elements(By.CSS_SELECTOR, \".ipe-2.ipe-md-3\")\n",
    "    try:\n",
    "        danh_gia.append([elm.text for elm in elms3][0])\n",
    "    except:\n",
    "        danh_gia.append(\"None\")\n",
    "    \n",
    "    # Lấy số lượt đánh giá 4\n",
    "    elms4 = driver.find_elements(By.CSS_SELECTOR, \".ifs-12.ifs-md-14.text-lowercase.ipt-1\")\n",
    "    try:\n",
    "        so_luot_danh_gia.append([elm.text for elm in elms4][0].replace(\" đánh giá\", \"\"))\n",
    "    except:\n",
    "        so_luot_danh_gia.append('None')\n",
    "    \n",
    "    # Lấy tỉ lệ khuyến khích làm việc tại công ty 5\n",
    "    elms5 = driver.find_elements(By.CSS_SELECTOR, \".d-flex.align-items-baseline.ipe-2.ipe-md-3\")\n",
    "    try:\n",
    "        khuyen_khich_lam_viec_tai_day.append([elm.text for elm in elms5][0].replace(\"\\n\", \"\"))\n",
    "    except:\n",
    "        khuyen_khich_lam_viec_tai_day.append(\"None\")\n",
    "    \n",
    "    # Lấy phần giới thiệu công ty 6\n",
    "    elms6 = driver.find_elements(By.CSS_SELECTOR, \".paragraph.ipt-4.text-break.text-contain-hyperlink\")\n",
    "    gioi_thieu_cong_ty.append([elm.text for elm in elms6][0])\n",
    "    \n",
    "    if cnt == 5:\n",
    "        break\n"
   ]
  },
  {
   "cell_type": "markdown",
   "id": "b3e578a4",
   "metadata": {},
   "source": [
    "# Tạo dataframe company"
   ]
  },
  {
   "cell_type": "code",
   "execution_count": null,
   "id": "1c749bf6",
   "metadata": {},
   "outputs": [],
   "source": [
    "dict_company_columns = {\n",
    "    'ten_cong_ty' : ten_cong_ty,\n",
    "    'so_nhan_vien' : so_nhan_vien,\n",
    "    'mo_hinh_kinh_doanh' : mo_hinh_kinh_doanh,\n",
    "    'quoc_gia_chu_quan' : quoc_gia_chu_quan,\n",
    "    'thoi_gian_lam_viec' : thoi_gian_lam_viec,\n",
    "    'lam_viec_ngoai_gio' : lam_viec_ngoai_gio,\n",
    "    'danh_gia' : danh_gia,\n",
    "    'so_luot_danh_gia' : so_luot_danh_gia,\n",
    "    'khuyen_khich_lam_viec_tai_day' : khuyen_khich_lam_viec_tai_day,\n",
    "    'gioi_thieu_cong_ty' : gioi_thieu_cong_ty\n",
    "}\n",
    "\n",
    "df_company = pd.DataFrame(dict_company_columns)\n",
    "df_company.head()"
   ]
  },
  {
   "cell_type": "code",
   "execution_count": null,
   "id": "ebc066be",
   "metadata": {},
   "outputs": [],
   "source": [
    "df_job.to_excel(\"df_company.xlsx\", index = False)"
   ]
  },
  {
   "cell_type": "code",
   "execution_count": null,
   "id": "b62dd311",
   "metadata": {},
   "outputs": [],
   "source": []
  }
 ],
 "metadata": {
  "kernelspec": {
   "display_name": "Python 3 (ipykernel)",
   "language": "python",
   "name": "python3"
  },
  "language_info": {
   "codemirror_mode": {
    "name": "ipython",
    "version": 3
   },
   "file_extension": ".py",
   "mimetype": "text/x-python",
   "name": "python",
   "nbconvert_exporter": "python",
   "pygments_lexer": "ipython3",
   "version": "3.10.6"
  }
 },
 "nbformat": 4,
 "nbformat_minor": 5
}
